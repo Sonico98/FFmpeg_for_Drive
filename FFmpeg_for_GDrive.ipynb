{
  "nbformat": 4,
  "nbformat_minor": 0,
  "metadata": {
    "colab": {
      "name": "FFmpeg for GDrive",
      "provenance": [],
      "collapsed_sections": [
        "RDHuIkoi6l9a",
        "ZwYHKLGiAJc1",
        "NObEcBWAJoaz",
        "FpJXJiRl6-gK",
        "SNDGdMRn3PA-",
        "2f-THZmDoOaY",
        "MSUasbRUDP3B",
        "9UagRtLPyKoQ",
        "GahMjYf8miNs",
        "7-3O4en4C4IL",
        "VRk2Ye1exWVA"
      ],
      "toc_visible": true,
      "include_colab_link": true
    },
    "kernelspec": {
      "name": "python3",
      "display_name": "Python 3"
    }
  },
  "cells": [
    {
      "cell_type": "markdown",
      "metadata": {
        "id": "view-in-github",
        "colab_type": "text"
      },
      "source": [
        "<a href=\"https://colab.research.google.com/github/Sonico98/FFmpeg_for_Drive/blob/main/FFmpeg_for_GDrive.ipynb\" target=\"_parent\"><img src=\"https://colab.research.google.com/assets/colab-badge.svg\" alt=\"Open In Colab\"/></a>"
      ]
    },
    {
      "cell_type": "markdown",
      "metadata": {
        "id": "pety7rf841Dg"
      },
      "source": [
        "# **<font color='blue'> FFmpeg for Google Drive, with mkv transcoding support </font>**"
      ]
    },
    {
      "cell_type": "markdown",
      "metadata": {
        "id": "EFOqhHG6hOVH"
      },
      "source": [
        "#__1. Install FFmpeg__"
      ]
    },
    {
      "cell_type": "code",
      "metadata": {
        "id": "hFeE-qPuhTiK",
        "cellView": "form"
      },
      "source": [
        "#@markdown <br><center><img src='https://raw.githubusercontent.com/sudo-ken/FFmpeg-for-GDrive/master/res/ffmpeg.png' height=\"80\" alt=\"Gdrive-logo\"/></center>\n",
        "#@markdown <center><h3>FFmpeg</h3></center><br>\n",
        "from IPython.display import clear_output\n",
        "import os, urllib.request\n",
        "HOME = os.path.expanduser(\"~\")\n",
        "pathDoneCMD = f'{HOME}/doneCMD.sh'\n",
        "if not os.path.exists(f\"{HOME}/.ipython/ttmg.py\"):\n",
        "    hCode = \"https://raw.githubusercontent.com/sudo-ken/FFmpeg-for-GDrive/master/ttmg.py\"\n",
        "    urllib.request.urlretrieve(hCode, f\"{HOME}/.ipython/ttmg.py\")\n",
        "\n",
        "from ttmg import (\n",
        "    loadingAn,\n",
        "    textAn,\n",
        ")\n",
        " \n",
        "loadingAn(name=\"lds\")\n",
        "textAn(\"Installing Dependencies...\", ty='twg')\n",
        "os.system('pip install git+git://github.com/AWConant/jikanpy.git')\n",
        "os.system('pip install ffpb')\n",
        "os.system('add-apt-repository ppa:jonathonf/ffmpeg-4')\n",
        "os.system('apt-get update')\n",
        "os.system('apt-get install mediainfo ffmpeg')\n",
        "clear_output()\n",
        "print('Installation finished.')"
      ],
      "execution_count": null,
      "outputs": []
    },
    {
      "cell_type": "markdown",
      "metadata": {
        "id": "CUq1_Dnegrs1"
      },
      "source": [
        "#__2. Mount Google Drive__\n",
        "\n",
        "\n",
        "\n"
      ]
    },
    {
      "cell_type": "code",
      "metadata": {
        "id": "ojI73noUg1If",
        "cellView": "form"
      },
      "source": [
        "#@markdown <br><center><img src='https://upload.wikimedia.org/wikipedia/commons/thumb/d/da/Google_Drive_logo.png/600px-Google_Drive_logo.png' height=\"50\" alt=\"Gdrive-logo\"/></center>\n",
        "#@markdown <center><h3>Mount GDrive to /content/drive</h3></center><br>\n",
        "MODE = \"MOUNT\" #@param [\"MOUNT\", \"UNMOUNT\"]\n",
        "#Mount your Gdrive! \n",
        "from google.colab import drive\n",
        "drive.mount._DEBUG = False\n",
        "if MODE == \"MOUNT\":\n",
        "  drive.mount('/content/drive')\n",
        "elif MODE == \"UNMOUNT\":\n",
        "  try:\n",
        "    drive.flush_and_unmount()\n",
        "  except ValueError:\n",
        "    pass\n",
        "  get_ipython().system_raw(\"rm -rf /root/.config/Google/DriveFS\")"
      ],
      "execution_count": null,
      "outputs": []
    },
    {
      "cell_type": "markdown",
      "metadata": {
        "id": "KgNPvGccgwd8"
      },
      "source": [
        "#__3. Run FFmpeg Scripts (Convert, Edit, Trim + more)__"
      ]
    },
    {
      "cell_type": "markdown",
      "metadata": {
        "id": "NQ0TxfKeghR8"
      },
      "source": [
        "###__Transcode MKV ➔ MP4 (and burn the first subs found)__"
      ]
    },
    {
      "cell_type": "code",
      "metadata": {
        "id": "Ls4O5VLwief-",
        "cellView": "form"
      },
      "source": [
        "import os, sys, re\n",
        "from IPython.display import clear_output\n",
        " \n",
        "#@markdown ##**Enter the file location**\n",
        "VIDEO_PATH = \"\" #@param {type:\"string\"}\n",
        " \n",
        "output_file_path = re.search(\"^[\\/].+\\/\", VIDEO_PATH)\n",
        "output_file_path_raw = output_file_path.group(0)\n",
        "delsplit = re.search(\"\\/(?:.(?!\\/))+$\", VIDEO_PATH)\n",
        "filename = re.sub(\"^[\\/]\", \"\", delsplit.group(0))\n",
        "filename_raw = re.sub(\".{4}$\", \"\", filename)\n",
        "file_extension = re.search(\".{3}$\", filename)\n",
        "file_extension_raw = file_extension.group(0)\n",
        " \n",
        "os.environ['inputFile'] = VIDEO_PATH\n",
        "os.environ['outputPath'] = output_file_path_raw\n",
        "os.environ['fileName'] = filename_raw\n",
        "os.environ['fileExtension'] = file_extension_raw\n",
        " \n",
        "# Install some basic fonts to the system. This happens only on first run.\n",
        "HOME = os.path.expanduser(\"~\")\n",
        "pathDoneCMD = f'{HOME}/doneCMD.sh'\n",
        "textAn(\"Installing Fonts...\", ty='twg')\n",
        "if not os.path.exists('/usr/share/fonts/truetype/new'):\n",
        "    os.system('mkdir /usr/share/fonts/truetype/new')\n",
        "    os.system('git clone https://github.com/ElGordoEncodes/FFMPGFonts.git')\n",
        "    os.system('mv FFMPGFonts/fonts/* /usr/share/fonts/truetype/new')\n",
        "    os.system('rm -rf FFMPGFonts')\n",
        " \n",
        "# Extract fonts embedded inside the mkv file.\n",
        "!cp \"$inputFile\" '/usr/share/fonts/truetype/new'\n",
        "for i in range(100):    # Increase in case there are more than 99 embeds inside the file\n",
        "    dumper = f'cd /usr/share/fonts/truetype/new && ffmpeg -dump_attachment:t:{i} \"\" -i *.mkv'\n",
        "    os.system(dumper)\n",
        "os.system('cd /usr/share/fonts/truetype/new && rm -rf *.mkv')\n",
        "os.system('fc-cache -f -v')\n",
        " \n",
        "# Extract subtitles to burn. Assumes only one subtitle file is present.\n",
        "textAn(\"Fonts installed. Extracting subtitles...\", ty='twg')\n",
        "os.system('mkdir /content/temp')\n",
        "os.system('ffmpeg -y -i \"$inputFile\" \"/content/temp/sub.ass\"')\n",
        "clear_output()\n",
        "textAn(\"Subtitles extracted. Converting...\", ty='twg')\n",
        " \n",
        "\n",
        "#@markdown ##**<br/>Choose encoding parameters**\n",
        "#@markdown ###&nbsp;&nbsp;- Video\n",
        "VIDEO_CODEC = \"libx264\" #@param [\"libx264\", \"libx265\"] {allow-input: true}\n",
        "PRESET = \"medium\" #@param [\"ultrafast\", \"superfast\", \"veryfast\", \"faster\", \"fast\", \"medium\", \"slow\", \"slower\", \"very slow\", \"placebo\"]\n",
        "CRF = 23 #@param {type:\"slider\", min:0, max:51, step:1}\n",
        "PIXEL_FORMAT = \"yuv420p\" #@param [\"yuv420p\", \"yuv422p\", \"yuv444p\", \"yuv420p10le\", \"yuv420p12le\"] {allow-input: true}\n",
        "#@markdown &nbsp;&nbsp;&nbsp;&nbsp;&nbsp;&nbsp;&nbsp;&nbsp;_Note: yuv420p10le and yuv420p12le are only available with libx265_\n",
        "#@markdown ###<br/>&nbsp;&nbsp;- Audio\n",
        "AUDIO_CODEC = \"aac\" #@param [\"copy\", \"aac\", \"opus\", \"vorbis\", \"mp3\", \"flac\", \"wavpack\"] {allow-input: true}\n",
        "AUDIO_BITRATE = \"256k\" #@param {type:\"string\"}\n",
        "SAMPLE_RATE = 48000 #@param {type:\"integer\"}\n",
        "\n",
        "os.environ['vcodec'] = VIDEO_CODEC\n",
        "os.environ['preset'] = PRESET\n",
        "os.environ['crf'] = str(CRF)\n",
        "os.environ['pixfmt'] = PIXEL_FORMAT\n",
        "os.environ['acodec'] = AUDIO_CODEC\n",
        "os.environ['abitrate'] = AUDIO_BITRATE\n",
        "os.environ['sample_rate'] = str(SAMPLE_RATE)\n",
        "\n",
        "os.system('cp \"$inputFile\" /content/temp')\n",
        "!ffpb -i /content/temp/\"$fileName\".mkv -vf \"ass=/content/temp/sub.ass\" -c:a \"$acodec\" -strict -2 -b:a \"$abitrate\" -ar \"$sample_rate\" -c:v \"$vcodec\" -crf \"$crf\" -preset \"$preset\" -pix_fmt \"$pixfmt\" -movflags +faststart /content/temp/\"$fileName\".mp4\n",
        "\n",
        "# Optional: delete original MKV file. You'll also have to delete it from your GDrive Trash.\n",
        "# os.system('rm -rf \"$inputFile\"')\n",
        "os.system('mv /content/temp/\"$fileName.mp4\" \"$outputPath\"')\n",
        "os.system('rm -rf \"/content/temp/')\n",
        "\n",
        "print('Conversion finished.')"
      ],
      "execution_count": null,
      "outputs": []
    },
    {
      "cell_type": "markdown",
      "metadata": {
        "id": "RDHuIkoi6l9a"
      },
      "source": [
        "###__Display Media File Metadata__"
      ]
    },
    {
      "cell_type": "code",
      "metadata": {
        "id": "Sv8au_RO6WUs",
        "cellView": "form"
      },
      "source": [
        "import os, sys, re\n",
        "\n",
        "media_file_path = \"\" #@param {type:\"string\"}\n",
        "\n",
        "os.environ['inputFile'] = media_file_path\n",
        "\n",
        "!ffmpeg -i \"$inputFile\" -hide_banner"
      ],
      "execution_count": null,
      "outputs": []
    },
    {
      "cell_type": "markdown",
      "metadata": {
        "id": "X4yIG_nqYAoH"
      },
      "source": [
        "> *You can ignore the* \"`At least one output file must be specified`\" *error after running this.*\n",
        "\n",
        "\n"
      ]
    },
    {
      "cell_type": "markdown",
      "metadata": {
        "id": "ZwYHKLGiAJc1"
      },
      "source": [
        "###__Convert Video File ➔ .mp4 (Lossless)__"
      ]
    },
    {
      "cell_type": "code",
      "metadata": {
        "cellView": "form",
        "id": "mtJkVddgAJc1"
      },
      "source": [
        "import os, sys, re\n",
        "\n",
        "video_file_path = \"\" #@param {type:\"string\"}\n",
        "\n",
        "output_file_path = re.search(\"^[\\/].+\\/\", video_file_path)\n",
        "output_file_path_raw = output_file_path.group(0)\n",
        "delsplit = re.search(\"\\/(?:.(?!\\/))+$\", video_file_path)\n",
        "filename = re.sub(\"^[\\/]\", \"\", delsplit.group(0))\n",
        "filename_raw = re.sub(\".{4}$\", \"\", filename)\n",
        "file_extension = re.search(\".{3}$\", filename)\n",
        "file_extension_raw = file_extension.group(0)\n",
        "\n",
        "os.environ['inputFile'] = video_file_path\n",
        "os.environ['outputPath'] = output_file_path_raw\n",
        "os.environ['fileName'] = filename_raw\n",
        "os.environ['fileExtension'] = file_extension_raw\n",
        "\n",
        "!ffmpeg -hide_banner -i \"$inputFile\" -c copy -strict -2 \"$outputPath\"/\"$fileName\".mp4"
      ],
      "execution_count": null,
      "outputs": []
    },
    {
      "cell_type": "markdown",
      "metadata": {
        "id": "NObEcBWAJoaz"
      },
      "source": [
        "###__Convert Video File ➔ .mkv (Lossless)__"
      ]
    },
    {
      "cell_type": "code",
      "metadata": {
        "cellView": "form",
        "id": "zsx4JFLRJoa0"
      },
      "source": [
        "import os, sys, re\n",
        "\n",
        "video_file_path = \"\" #@param {type:\"string\"}\n",
        "\n",
        "output_file_path = re.search(\"^[\\/].+\\/\", video_file_path)\n",
        "output_file_path_raw = output_file_path.group(0)\n",
        "delsplit = re.search(\"\\/(?:.(?!\\/))+$\", video_file_path)\n",
        "filename = re.sub(\"^[\\/]\", \"\", delsplit.group(0))\n",
        "filename_raw = re.sub(\".{4}$\", \"\", filename)\n",
        "file_extension = re.search(\".{3}$\", filename)\n",
        "file_extension_raw = file_extension.group(0)\n",
        "\n",
        "os.environ['inputFile'] = video_file_path\n",
        "os.environ['outputPath'] = output_file_path_raw\n",
        "os.environ['fileName'] = filename_raw\n",
        "os.environ['fileExtension'] = file_extension_raw\n",
        "\n",
        "!ffmpeg -hide_banner -i \"$inputFile\" -c copy -strict -2 \"$outputPath\"/\"$fileName\".mkv"
      ],
      "execution_count": null,
      "outputs": []
    },
    {
      "cell_type": "markdown",
      "metadata": {
        "id": "FpJXJiRl6-gK"
      },
      "source": [
        "###__Trim Video File (Lossless)__"
      ]
    },
    {
      "cell_type": "code",
      "metadata": {
        "id": "iFBUeQhn7QTc",
        "cellView": "form"
      },
      "source": [
        "import os, sys, re\n",
        "\n",
        "video_file_path = \"\" #@param {type:\"string\"}\n",
        "start_time = \"00:00:00.000\" #@param {type:\"string\"}\n",
        "end_time = \"00:01:00.000\" #@param {type:\"string\"}\n",
        "\n",
        "output_file_path = re.search(\"^[\\/].+\\/\", video_file_path)\n",
        "output_file_path_raw = output_file_path.group(0)\n",
        "delsplit = re.search(\"\\/(?:.(?!\\/))+$\", video_file_path)\n",
        "filename = re.sub(\"^[\\/]\", \"\", delsplit.group(0))\n",
        "filename_raw = re.sub(\".{4}$\", \"\", filename)\n",
        "file_extension = re.search(\".{3}$\", filename)\n",
        "file_extension_raw = file_extension.group(0)\n",
        "\n",
        "os.environ['inputFile'] = video_file_path\n",
        "os.environ['outputPath'] = output_file_path_raw\n",
        "os.environ['startTime'] = start_time\n",
        "os.environ['endTime'] = end_time\n",
        "os.environ['fileName'] = filename_raw\n",
        "os.environ['fileExtension'] = file_extension_raw\n",
        "\n",
        "!ffmpeg -hide_banner -i \"$inputFile\" -ss \"$startTime\" -to \"$endTime\" -c copy \"$outputPath\"/\"$fileName\"-TRIM.\"$fileExtension\""
      ],
      "execution_count": null,
      "outputs": []
    },
    {
      "cell_type": "markdown",
      "metadata": {
        "id": "SNDGdMRn3PA-"
      },
      "source": [
        "###__Crop Video__"
      ]
    },
    {
      "cell_type": "markdown",
      "metadata": {
        "id": "KFcIThDuBii_"
      },
      "source": [
        "<h3> Crop Variables Explanation:\n",
        "\n",
        "* `out_width` = The width of your cropped video file.\n",
        "* `out_height` = The height of your cropped video file.\n",
        "* `starting_position_x` & `starting_position_y` = These values define the x & y coordinates of the top left corner of your original video to start cropping from.\n",
        "\n",
        "###### *Example: For cropping the black bars from a video that looked like* [this](https://i.imgur.com/ud8nbvT.png):\n",
        "* *For your starting coordinates* (`x` , `y`) *you would use* (`0` , `138`).\n",
        "* *For* `out_width` *you would use* `1920`. *And for* `out_height` *you would use `804`.*\n",
        "\n",
        "\n",
        "\n"
      ]
    },
    {
      "cell_type": "code",
      "metadata": {
        "cellView": "form",
        "id": "CEHi5EMm9lXG"
      },
      "source": [
        "import os, sys, re\n",
        "\n",
        "video_file_path = \"\" #@param {type:\"string\"}\n",
        "out_width = \"1920\" #@param {type:\"string\"}\n",
        "out_height = \"804\" #@param {type:\"string\"}\n",
        "starting_position_x = \"0\" #@param {type:\"string\"}\n",
        "starting_position_y = \"138\" #@param {type:\"string\"}\n",
        "\n",
        "output_file_path = re.search(\"^[\\/].+\\/\", video_file_path)\n",
        "output_file_path_raw = output_file_path.group(0)\n",
        "delsplit = re.search(\"\\/(?:.(?!\\/))+$\", video_file_path)\n",
        "filename = re.sub(\"^[\\/]\", \"\", delsplit.group(0))\n",
        "filename_raw = re.sub(\".{4}$\", \"\", filename)\n",
        "file_extension = re.search(\".{3}$\", filename)\n",
        "file_extension_raw = file_extension.group(0)\n",
        "\n",
        "os.environ['inputFile'] = video_file_path\n",
        "os.environ['outputPath'] = output_file_path_raw\n",
        "os.environ['outWidth'] = out_width\n",
        "os.environ['outHeight'] = out_height\n",
        "os.environ['positionX'] = starting_position_x\n",
        "os.environ['positionY'] = starting_position_y\n",
        "os.environ['fileName'] = filename_raw\n",
        "os.environ['fileExtension'] = file_extension_raw\n",
        "\n",
        "!ffmpeg -hide_banner -i \"$inputFile\" -filter:v \"crop=$outWidth:$outHeight:$positionX:$positionY\" \"$outputPath\"/\"$fileName\"-CROP.\"$fileExtension\""
      ],
      "execution_count": null,
      "outputs": []
    },
    {
      "cell_type": "markdown",
      "metadata": {
        "id": "2f-THZmDoOaY"
      },
      "source": [
        "###__Extract Audio from Video File (Lossless)__"
      ]
    },
    {
      "cell_type": "code",
      "metadata": {
        "id": "nSeO98YQoTJe",
        "cellView": "form"
      },
      "source": [
        "import os, sys, re\n",
        "\n",
        "video_file_path = \"\" #@param {type:\"string\"}\n",
        "output_file_extension = 'm4a' #@param [\"m4a\", \"mp3\", \"opus\", \"flac\", \"wav\"]\n",
        "\n",
        "delsplit = re.search(\"\\/(?:.(?!\\/))+$\", video_file_path)\n",
        "output_file_path = re.search(\"^[\\/].+\\/\", video_file_path)\n",
        "filename = re.sub(\"^[\\/]\", \"\", delsplit.group(0))\n",
        "filename_raw = re.sub(\".{4}$\", \"\", filename)\n",
        "\n",
        "os.environ['inputFile'] = video_file_path\n",
        "os.environ['outputPath'] = output_file_path.group(0)\n",
        "os.environ['fileName'] = filename_raw\n",
        "os.environ['fileType'] = output_file_extension\n",
        "\n",
        "!ffmpeg -hide_banner -i \"$inputFile\" -vn -c:a copy \"$outputPath\"/\"$fileName\"-audio.\"$fileType\""
      ],
      "execution_count": null,
      "outputs": []
    },
    {
      "cell_type": "markdown",
      "metadata": {
        "id": "MSUasbRUDP3B"
      },
      "source": [
        "###__Re-encode a Video to a Different Resolution__"
      ]
    },
    {
      "cell_type": "code",
      "metadata": {
        "id": "nd2LvSRZCxRe",
        "cellView": "form"
      },
      "source": [
        "import os, sys, re\n",
        "\n",
        "video_file_path = '' #@param {type:\"string\"}\n",
        "resolution = '1080p' #@param [\"2160p\", \"1440p\", \"1080p\", \"720p\", \"480p\", \"360p\", \"240p\"]\n",
        "file_type = 'mp4' #@param [\"mkv\", \"mp4\"]\n",
        "\n",
        "delsplit = re.search(\"\\/(?:.(?!\\/))+$\", video_file_path)\n",
        "testsplit = video_file_path.split(\"/\")\n",
        "filename = re.sub(\"^[\\/]\", \"\", delsplit.group(0))\n",
        "filename_raw = re.sub(\".{4}$\", \"\", filename)\n",
        "resolution_raw = re.search(\"[^p]{3,4}\", resolution)\n",
        "output_file_path = re.search(\"^[\\/].+\\/\", video_file_path)\n",
        "\n",
        "os.environ['inputFile'] = video_file_path\n",
        "os.environ['outputPath'] = output_file_path.group(0)\n",
        "os.environ['fileName'] = filename_raw\n",
        "os.environ['fileType'] = file_type\n",
        "os.environ['resolutionHeight'] = resolution_raw.group(0)\n",
        "\n",
        "!ffmpeg -hide_banner -i \"$inputFile\" -vf \"scale=-1:\"$resolutionHeight\"\" -c:a copy -strict experimental \"$outputPath\"/\"$fileName\"-\"$resolutionHeight\"p.\"$fileType\""
      ],
      "execution_count": null,
      "outputs": []
    },
    {
      "cell_type": "markdown",
      "metadata": {
        "id": "9UagRtLPyKoQ"
      },
      "source": [
        "###__Extract Individual Frames from Video__"
      ]
    },
    {
      "cell_type": "code",
      "metadata": {
        "cellView": "form",
        "id": "jTnByMhAyKoF"
      },
      "source": [
        "#@markdown This will create a folder in the same directory titled \"`Extracted Frames`\"\n",
        "#@markdown - [Example](https://i.imgur.com/yPDk1hO.png) of output folder\n",
        "import os, sys, re\n",
        "\n",
        "video_file_path = \"\" #@param {type:\"string\"}\n",
        "start_time = \"00:01:00.000\" #@param {type:\"string\"}\n",
        "end_time = \"00:01:05.000\" #@param {type:\"string\"}\n",
        "frame_rate = \"23.976\" #@param {type:\"string\"}\n",
        "\n",
        "output_file_path = re.search(\"^[\\/].+\\/\", video_file_path)\n",
        "output_file_path_raw = output_file_path.group(0)\n",
        "delsplit = re.search(\"\\/(?:.(?!\\/))+$\", video_file_path)\n",
        "filename = re.sub(\"^[\\/]\", \"\", delsplit.group(0))\n",
        "filename_raw = re.sub(\".{4}$\", \"\", filename)\n",
        "file_extension = re.search(\".{3}$\", filename)\n",
        "file_extension_raw = file_extension.group(0)\n",
        "\n",
        "os.environ['inputFile'] = video_file_path\n",
        "os.environ['outputPath'] = output_file_path_raw\n",
        "os.environ['startTime'] = start_time\n",
        "os.environ['endTime'] = end_time\n",
        "os.environ['frameRate'] = frame_rate\n",
        "os.environ['fileName'] = filename_raw\n",
        "os.environ['fileExtension'] = file_extension_raw\n",
        "\n",
        "!mkdir \"$outputPath\"/\"Extracted Frames\"\n",
        "!ffmpeg -hide_banner -i \"$inputFile\" -ss \"$startTime\" -to \"$endTime\" -r \"$frameRate\"/1 \"$outputPath\"/\"Extracted Frames\"/frame%04d.png"
      ],
      "execution_count": null,
      "outputs": []
    },
    {
      "cell_type": "markdown",
      "metadata": {
        "id": "GahMjYf8miNs"
      },
      "source": [
        "###__Generate Thumbnails - Preview from Video (3x2)__"
      ]
    },
    {
      "cell_type": "code",
      "metadata": {
        "cellView": "form",
        "id": "J2u-Rha8miNy"
      },
      "source": [
        "#@markdown Example of output image: https://i.imgur.com/0ymP144.png <br>\n",
        "import os, sys, re\n",
        "\n",
        "video_file_path = \"\" #@param {type:\"string\"}\n",
        "output_file_type = 'png' #@param [\"png\", \"jpg\"]\n",
        "\n",
        "output_file_path = re.search(\"^[\\/].+\\/\", video_file_path)\n",
        "output_file_path_raw = output_file_path.group(0)\n",
        "delsplit = re.search(\"\\/(?:.(?!\\/))+$\", video_file_path)\n",
        "filename = re.sub(\"^[\\/]\", \"\", delsplit.group(0))\n",
        "filename_raw = re.sub(\".{4}$\", \"\", filename)\n",
        "file_extension = re.search(\".{3}$\", filename)\n",
        "file_extension_raw = file_extension.group(0)\n",
        "\n",
        "os.environ['inputFile'] = video_file_path\n",
        "os.environ['outputPath'] = output_file_path_raw\n",
        "os.environ['outputExtension'] = output_file_type\n",
        "os.environ['fileName'] = filename_raw\n",
        "os.environ['fileExtension'] = file_extension_raw\n",
        "\n",
        "!ffmpeg -hide_banner -i \"$inputFile\" -vframes 1 -q:v 2 -vf \"select=not(mod(n\\,200)),scale=-1:480,tile=3x2\" -an \"$outputPath\"/\"$fileName\"_thumbnails.\"$outputExtension\""
      ],
      "execution_count": null,
      "outputs": []
    },
    {
      "cell_type": "markdown",
      "metadata": {
        "id": "7-3O4en4C4IL"
      },
      "source": [
        "###__Convert Audio Filetype (mp3, m4a, ogg, flac, etc.)__"
      ]
    },
    {
      "cell_type": "code",
      "metadata": {
        "id": "aURlOf9BC1P3",
        "cellView": "form"
      },
      "source": [
        "import os, sys, re\n",
        "\n",
        "audio_file_path = \"\" #@param {type:\"string\"}\n",
        "output_file_type = \"mp3\" #@param [\"mp3\", \"ogg\", \"m4a\", \"opus\", \"flac\", \"alac\", \"wav\"]\n",
        "\n",
        "output_file_path = re.search(\"^[\\/].+\\/\", audio_file_path)\n",
        "output_file_path_raw = output_file_path.group(0)\n",
        "delsplit = re.search(\"\\/(?:.(?!\\/))+$\", audio_file_path)\n",
        "filename = re.sub(\"^[\\/]\", \"\", delsplit.group(0))\n",
        "filename_raw = re.sub(\".{4}$\", \"\", filename)\n",
        "file_extension = re.search(\".{3}$\", filename)\n",
        "file_extension_raw = file_extension.group(0)\n",
        "\n",
        "os.environ['inputFile'] = audio_file_path\n",
        "os.environ['outputPath'] = output_file_path_raw\n",
        "os.environ['fileExtension'] = output_file_type\n",
        "os.environ['fileName'] = filename_raw\n",
        "\n",
        "!ffmpeg -hide_banner -i \"$inputFile\" \"$outputPath\"/\"$fileName\"converted.\"$fileExtension\""
      ],
      "execution_count": null,
      "outputs": []
    },
    {
      "cell_type": "markdown",
      "metadata": {
        "id": "VRk2Ye1exWVA"
      },
      "source": [
        "###__Sharable Links of Randomly Extracted Frames from Video__"
      ]
    },
    {
      "cell_type": "code",
      "metadata": {
        "cellView": "form",
        "id": "BIGsgarfxWVI"
      },
      "source": [
        "import os, re, time, pathlib\n",
        "import urllib.request\n",
        "from IPython.display import clear_output\n",
        "\n",
        "Auto_UP_Gdrive = False  \n",
        "AUTO_MOVE_PATH = \"/content\" \n",
        "HOME = os.path.expanduser(\"~\")\n",
        "pathDoneCMD = f'{HOME}/doneCMD.sh'\n",
        "\n",
        "if not os.path.exists(f\"{HOME}/.ipython/ttmg.py\"):\n",
        "    hCode = \"https://raw.githubusercontent.com/biplobsd/\" \\\n",
        "                \"Google-Colab-CloudTorrent/master/res/ttmg.py\"\n",
        "    urllib.request.urlretrieve(hCode, f\"{HOME}/.ipython/ttmg.py\")\n",
        "\n",
        "from ttmg import (\n",
        "    runSh,\n",
        "    findProcess,\n",
        "    loadingAn,\n",
        "    updateCheck,\n",
        "    ngrok\n",
        ")\n",
        "\n",
        "video_file_path = \"\" #@param {type:\"string\"}\n",
        "\n",
        "output_file_path = re.search(\"^[\\/].+\\/\", video_file_path)\n",
        "output_file_path_raw = output_file_path.group(0)\n",
        "delsplit = re.search(\"\\/(?:.(?!\\/))+$\", video_file_path)\n",
        "filename = re.sub(\"^[\\/]\", \"\", delsplit.group(0))\n",
        "filename_raw = re.sub(\".{4}$\", \"\", filename)\n",
        "file_extension = re.search(\".{3}$\", filename)\n",
        "file_extension_raw = file_extension.group(0)\n",
        "\n",
        "os.environ['inputFile'] = video_file_path\n",
        "os.environ['outputPath'] = output_file_path_raw\n",
        "os.environ['fileName'] = filename_raw\n",
        "os.environ['fileExtension'] = file_extension_raw\n",
        "\n",
        "!mkdir -p \"/content/frames\"\n",
        "\n",
        "for i in range(10):\n",
        "    clear_output()\n",
        "    loadingAn()\n",
        "    print(\"Uploading Frames...\")\n",
        "\n",
        "%cd \"/content/frames\"\n",
        "!ffmpeg -hide_banner -ss 00:56.0 -i \"$inputFile\" -vframes 1 -q:v 1 -y \"/content/frames/frame1.png\"\n",
        "!curl --silent -F \"reqtype=fileupload\" -F \"fileToUpload=@frame1.png\" https://catbox.moe/user/api.php -o frame1.txt\n",
        "f1 = open('frame1.txt', 'r')\n",
        "%cd \"/content\"\n",
        "file_content1 = f1.read()\n",
        "\n",
        "%cd \"/content/frames\"\n",
        "!ffmpeg -hide_banner -ss 02:20.0 -i \"$inputFile\" -vframes 1 -q:v 1 -y \"/content/frames/frame2.png\"\n",
        "!curl --silent -F \"reqtype=fileupload\" -F \"fileToUpload=@frame2.png\" https://catbox.moe/user/api.php -o frame2.txt\n",
        "%cd \"/content/frames\"\n",
        "f2 = open('frame2.txt', 'r')\n",
        "%cd \"/content\"\n",
        "file_content2 = f2.read()\n",
        "\n",
        "clear_output()\n",
        "print (\"Screenshot URLs:\")\n",
        "print (\"1. \" + file_content1)\n",
        "print (\"2. \" + file_content2)"
      ],
      "execution_count": null,
      "outputs": []
    },
    {
      "cell_type": "markdown",
      "metadata": {
        "id": "tozwpAhhnm69"
      },
      "source": [
        "\n",
        "###__MediaInfo__"
      ]
    },
    {
      "cell_type": "code",
      "metadata": {
        "id": "NTULRguzu0b0",
        "cellView": "form"
      },
      "source": [
        "path = \"\" #@param {type:\"string\"}\n",
        "save_txt = True #@param {type:\"boolean\"}\n",
        "import os, uuid, re, IPython\n",
        "import ipywidgets as widgets\n",
        "import time\n",
        "\n",
        "from glob import glob\n",
        "from IPython.display import HTML, clear_output\n",
        "from google.colab import output, drive\n",
        "\n",
        "def mediainfo():\n",
        "  display(HTML(\"<br>\"))\n",
        "#   print(path.split(\"/\")[::-1][0])\n",
        "  display(HTML(\"<br>\"))\n",
        "#   media = !mediainfo \"$path\"\n",
        "#   media = \"\\n\".join(media).replace(os.path.dirname(path)+\"/\", \"\")\n",
        "  get_ipython().system_raw(\"\"\"mediainfo --LogFile=\"/root/.nfo\" \"$path\" \"\"\")\n",
        "  with open('/root/.nfo', 'r') as file:\n",
        "    media = file.read()\n",
        "    media = media.replace(os.path.dirname(path)+\"/\", \"\")\n",
        "  print(media)\n",
        "  get_ipython().system_raw(\"rm -f '/root/.nfo'\")\n",
        "  \n",
        "  if save_txt:\n",
        "    txt = path.rpartition('.')[0] + \".txt\"\n",
        "    if os.path.exists(txt):\n",
        "      get_ipython().system_raw(\"rm -f '$txt'\")\n",
        "    !curl -s https://pastebin.com/raw/TV8Byydt -o \"$txt\"\n",
        "    with open(txt, 'a+') as file:\n",
        "      file.write(\"\\n\\n\")\n",
        "      file.write(media)\n",
        "\n",
        "while not os.path.exists(\"/content/drive\"):\n",
        "  try:\n",
        "    drive.mount(\"/content/drive\")\n",
        "    clear_output(wait=True)\n",
        "  except:\n",
        "    clear_output()\n",
        "    \n",
        "if not os.path.exists(\"/usr/bin/mediainfo\"):\n",
        "  get_ipython().system_raw(\"apt-get install mediainfo\")\n",
        "  \n",
        "mediainfo()"
      ],
      "execution_count": null,
      "outputs": []
    }
  ]
}